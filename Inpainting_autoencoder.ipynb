{
 "cells": [
  {
   "cell_type": "code",
   "execution_count": null,
   "metadata": {
    "colab": {
     "base_uri": "https://localhost:8080/"
    },
    "id": "yz2l6Q9hW8Yh",
    "outputId": "e7463455-d2c7-40de-c3f0-cf95695f7389"
   },
   "outputs": [
    {
     "name": "stdout",
     "output_type": "stream",
     "text": [
      "Downloading data from https://storage.googleapis.com/tensorflow/tf-keras-datasets/train-labels-idx1-ubyte.gz\n",
      "32768/29515 [=================================] - 0s 0us/step\n",
      "Downloading data from https://storage.googleapis.com/tensorflow/tf-keras-datasets/train-images-idx3-ubyte.gz\n",
      "26427392/26421880 [==============================] - 0s 0us/step\n",
      "Downloading data from https://storage.googleapis.com/tensorflow/tf-keras-datasets/t10k-labels-idx1-ubyte.gz\n",
      "8192/5148 [===============================================] - 0s 0us/step\n",
      "Downloading data from https://storage.googleapis.com/tensorflow/tf-keras-datasets/t10k-images-idx3-ubyte.gz\n",
      "4423680/4422102 [==============================] - 0s 0us/step\n"
     ]
    }
   ],
   "source": [
    "import tensorflow as tf  \n",
    "from tensorflow import keras\n",
    "import cv2\n",
    "import numpy as np\n",
    "\n",
    "(x_train, y_train),(x_test, y_test) = tf.keras.datasets.fashion_mnist.load_data()\n"
   ]
  },
  {
   "cell_type": "markdown",
   "metadata": {
    "id": "wVVzAjYnqeCP"
   },
   "source": [
    "### Inpainting autoencoder "
   ]
  },
  {
   "cell_type": "code",
   "execution_count": null,
   "metadata": {
    "id": "pmuH4z_5Xu13"
   },
   "outputs": [],
   "source": [
    "x_train = x_train/255.0 \n",
    "x_test = x_test/255.0\n"
   ]
  },
  {
   "cell_type": "code",
   "execution_count": null,
   "metadata": {
    "colab": {
     "base_uri": "https://localhost:8080/",
     "height": 282
    },
    "id": "AS-m_UJyX3-B",
    "outputId": "0c146d40-7e5e-42e4-9d72-a3a34478d4af"
   },
   "outputs": [
    {
     "data": {
      "text/plain": [
       "<matplotlib.image.AxesImage at 0x7f3b039c6a90>"
      ]
     },
     "execution_count": 68,
     "metadata": {
      "tags": []
     },
     "output_type": "execute_result"
    },
    {
     "data": {
      "image/png": "[encoded data removed]",
      "text/plain": [
       "<Figure size 432x288 with 1 Axes>"
      ]
     },
     "metadata": {
      "needs_background": "light",
      "tags": []
     },
     "output_type": "display_data"
    }
   ],
   "source": [
    "import matplotlib.pyplot as plt\n",
    "\n",
    "plt.imshow(x_train[1], cmap=\"gray\")"
   ]
  },
  {
   "cell_type": "code",
   "execution_count": null,
   "metadata": {
    "id": "BuRa9X_OqcUm"
   },
   "outputs": [],
   "source": [
    "import copy\n",
    "\n",
    "covered_x_train = copy.deepcopy(x_train)\n",
    "\n",
    "for i in range(len(x_train)):\n",
    "  for x in range(10, 16):\n",
    "    for y in range(10, 16):\n",
    "      covered_x_train[i][x,y] = 0\n"
   ]
  },
  {
   "cell_type": "code",
   "execution_count": null,
   "metadata": {
    "colab": {
     "base_uri": "https://localhost:8080/",
     "height": 282
    },
    "id": "QwUqKG7Sqcbn",
    "outputId": "d69041d6-c8c3-4465-c41a-7996054f5f97"
   },
   "outputs": [
    {
     "data": {
      "text/plain": [
       "<matplotlib.image.AxesImage at 0x7f3b03d5e210>"
      ]
     },
     "execution_count": 58,
     "metadata": {
      "tags": []
     },
     "output_type": "execute_result"
    },
    {
     "data": {
      "image/png": "[encoded data removed]",
      "text/plain": [
       "<Figure size 432x288 with 1 Axes>"
      ]
     },
     "metadata": {
      "needs_background": "light",
      "tags": []
     },
     "output_type": "display_data"
    }
   ],
   "source": [
    "plt.imshow(covered_x_train[1], cmap=\"gray\")"
   ]
  },
  {
   "cell_type": "code",
   "execution_count": null,
   "metadata": {
    "id": "IuvOens_YArV"
   },
   "outputs": [],
   "source": [
    "encoder_input = keras.Input(shape=(28, 28, 1), name='img')\n",
    "x1 = keras.layers.Flatten()(encoder_input)\n",
    "x2 = keras.layers.Dense(128, activation=\"relu\")(x1)\n",
    "encoder_output = keras.layers.Dense(64, activation=\"relu\")(x2)\n",
    "encoder = keras.Model(encoder_input, encoder_output, name='encoder')\n"
   ]
  },
  {
   "cell_type": "code",
   "execution_count": null,
   "metadata": {
    "id": "QwDIVTH8ZRBk"
   },
   "outputs": [],
   "source": [
    "decoder_input = keras.layers.Dense(64, activation=\"relu\")(encoder_output)\n",
    "x2 = keras.layers.Dense(128, activation=\"relu\")(decoder_input)\n",
    "x1 = keras.layers.Dense(784, activation=\"relu\")(x2)\n",
    "decoder_output = keras.layers.Reshape((28, 28, 1))(x1)\n",
    "\n",
    "autoencoder = keras.Model(encoder_input, decoder_output, name='autoencoder')\n",
    "\n"
   ]
  },
  {
   "cell_type": "code",
   "execution_count": null,
   "metadata": {
    "colab": {
     "base_uri": "https://localhost:8080/"
    },
    "id": "ITcmC9q-Z7q7",
    "outputId": "b00c3563-e44e-4663-bdd0-95ed080953b3"
   },
   "outputs": [
    {
     "name": "stdout",
     "output_type": "stream",
     "text": [
      "Model: \"autoencoder\"\n",
      "_________________________________________________________________\n",
      "Layer (type)                 Output Shape              Param #   \n",
      "=================================================================\n",
      "img (InputLayer)             [(None, 28, 28, 1)]       0         \n",
      "_________________________________________________________________\n",
      "flatten_4 (Flatten)          (None, 784)               0         \n",
      "_________________________________________________________________\n",
      "dense_16 (Dense)             (None, 128)               100480    \n",
      "_________________________________________________________________\n",
      "dense_17 (Dense)             (None, 64)                8256      \n",
      "_________________________________________________________________\n",
      "dense_18 (Dense)             (None, 64)                4160      \n",
      "_________________________________________________________________\n",
      "dense_19 (Dense)             (None, 128)               8320      \n",
      "_________________________________________________________________\n",
      "dense_20 (Dense)             (None, 784)               101136    \n",
      "_________________________________________________________________\n",
      "reshape_4 (Reshape)          (None, 28, 28, 1)         0         \n",
      "=================================================================\n",
      "Total params: 222,352\n",
      "Trainable params: 222,352\n",
      "Non-trainable params: 0\n",
      "_________________________________________________________________\n"
     ]
    }
   ],
   "source": [
    "autoencoder.summary()"
   ]
  },
  {
   "cell_type": "code",
   "execution_count": null,
   "metadata": {
    "id": "Tvr-HwWGaRW7"
   },
   "outputs": [],
   "source": [
    "opt = tf.keras.optimizers.Adam(lr=0.001, decay=1e-6)\n",
    "autoencoder.compile(opt, loss='mse')"
   ]
  },
  {
   "cell_type": "code",
   "execution_count": null,
   "metadata": {
    "colab": {
     "base_uri": "https://localhost:8080/"
    },
    "id": "UaSf1SYKaW_R",
    "outputId": "2b2dd3bd-f62b-46d9-a603-d93575ee4aba"
   },
   "outputs": [
    {
     "name": "stdout",
     "output_type": "stream",
     "text": [
      "Epoch 1/50\n",
      "1688/1688 [==============================] - 8s 4ms/step - loss: 0.0468 - val_loss: 0.0271\n",
      "Epoch 2/50\n",
      "1688/1688 [==============================] - 7s 4ms/step - loss: 0.0256 - val_loss: 0.0239\n",
      "Epoch 3/50\n",
      "1688/1688 [==============================] - 7s 4ms/step - loss: 0.0226 - val_loss: 0.0222\n",
      "Epoch 4/50\n",
      "1688/1688 [==============================] - 7s 4ms/step - loss: 0.0215 - val_loss: 0.0212\n",
      "Epoch 5/50\n",
      "1688/1688 [==============================] - 7s 4ms/step - loss: 0.0207 - val_loss: 0.0205\n",
      "Epoch 6/50\n",
      "1688/1688 [==============================] - 7s 4ms/step - loss: 0.0198 - val_loss: 0.0204\n",
      "Epoch 7/50\n",
      "1688/1688 [==============================] - 7s 4ms/step - loss: 0.0195 - val_loss: 0.0197\n",
      "Epoch 8/50\n",
      "1688/1688 [==============================] - 7s 4ms/step - loss: 0.0193 - val_loss: 0.0197\n",
      "Epoch 9/50\n",
      "1688/1688 [==============================] - 7s 4ms/step - loss: 0.0192 - val_loss: 0.0194\n",
      "Epoch 10/50\n",
      "1688/1688 [==============================] - 7s 4ms/step - loss: 0.0190 - val_loss: 0.0193\n",
      "Epoch 11/50\n",
      "1688/1688 [==============================] - 7s 4ms/step - loss: 0.0188 - val_loss: 0.0192\n",
      "Epoch 12/50\n",
      "1688/1688 [==============================] - 7s 4ms/step - loss: 0.0188 - val_loss: 0.0193\n",
      "Epoch 13/50\n",
      "1688/1688 [==============================] - 7s 4ms/step - loss: 0.0186 - val_loss: 0.0192\n",
      "Epoch 14/50\n",
      "1688/1688 [==============================] - 7s 4ms/step - loss: 0.0186 - val_loss: 0.0189\n",
      "Epoch 15/50\n",
      "1688/1688 [==============================] - 7s 4ms/step - loss: 0.0184 - val_loss: 0.0188\n",
      "Epoch 16/50\n",
      "1688/1688 [==============================] - 7s 4ms/step - loss: 0.0184 - val_loss: 0.0189\n",
      "Epoch 17/50\n",
      "1688/1688 [==============================] - 7s 4ms/step - loss: 0.0184 - val_loss: 0.0188\n",
      "Epoch 18/50\n",
      "1688/1688 [==============================] - 7s 4ms/step - loss: 0.0183 - val_loss: 0.0189\n",
      "Epoch 19/50\n",
      "1688/1688 [==============================] - 7s 4ms/step - loss: 0.0182 - val_loss: 0.0187\n",
      "Epoch 20/50\n",
      "1688/1688 [==============================] - 7s 4ms/step - loss: 0.0183 - val_loss: 0.0187\n",
      "Epoch 21/50\n",
      "1688/1688 [==============================] - 7s 4ms/step - loss: 0.0182 - val_loss: 0.0187\n",
      "Epoch 22/50\n",
      "1688/1688 [==============================] - 7s 4ms/step - loss: 0.0182 - val_loss: 0.0185\n",
      "Epoch 23/50\n",
      "1688/1688 [==============================] - 7s 4ms/step - loss: 0.0181 - val_loss: 0.0185\n",
      "Epoch 24/50\n",
      "1688/1688 [==============================] - 7s 4ms/step - loss: 0.0181 - val_loss: 0.0187\n",
      "Epoch 25/50\n",
      "1688/1688 [==============================] - 7s 4ms/step - loss: 0.0180 - val_loss: 0.0185\n",
      "Epoch 26/50\n",
      "1688/1688 [==============================] - 7s 4ms/step - loss: 0.0181 - val_loss: 0.0185\n",
      "Epoch 27/50\n",
      "1688/1688 [==============================] - 7s 4ms/step - loss: 0.0180 - val_loss: 0.0184\n",
      "Epoch 28/50\n",
      "1688/1688 [==============================] - 7s 4ms/step - loss: 0.0180 - val_loss: 0.0185\n",
      "Epoch 29/50\n",
      "1688/1688 [==============================] - 7s 4ms/step - loss: 0.0180 - val_loss: 0.0185\n",
      "Epoch 30/50\n",
      "1688/1688 [==============================] - 7s 4ms/step - loss: 0.0179 - val_loss: 0.0184\n",
      "Epoch 31/50\n",
      "1688/1688 [==============================] - 7s 4ms/step - loss: 0.0179 - val_loss: 0.0184\n",
      "Epoch 32/50\n",
      "1688/1688 [==============================] - 7s 4ms/step - loss: 0.0179 - val_loss: 0.0183\n",
      "Epoch 33/50\n",
      "1688/1688 [==============================] - 7s 4ms/step - loss: 0.0178 - val_loss: 0.0183\n",
      "Epoch 34/50\n",
      "1688/1688 [==============================] - 7s 4ms/step - loss: 0.0179 - val_loss: 0.0183\n",
      "Epoch 35/50\n",
      "1688/1688 [==============================] - 7s 4ms/step - loss: 0.0178 - val_loss: 0.0183\n",
      "Epoch 36/50\n",
      "1688/1688 [==============================] - 7s 4ms/step - loss: 0.0178 - val_loss: 0.0183\n",
      "Epoch 37/50\n",
      "1688/1688 [==============================] - 7s 4ms/step - loss: 0.0179 - val_loss: 0.0184\n",
      "Epoch 38/50\n",
      "1688/1688 [==============================] - 7s 4ms/step - loss: 0.0177 - val_loss: 0.0183\n",
      "Epoch 39/50\n",
      "1688/1688 [==============================] - 7s 4ms/step - loss: 0.0177 - val_loss: 0.0183\n",
      "Epoch 40/50\n",
      "1688/1688 [==============================] - 7s 4ms/step - loss: 0.0177 - val_loss: 0.0182\n",
      "Epoch 41/50\n",
      "1688/1688 [==============================] - 7s 4ms/step - loss: 0.0178 - val_loss: 0.0182\n",
      "Epoch 42/50\n",
      "1688/1688 [==============================] - 7s 4ms/step - loss: 0.0177 - val_loss: 0.0182\n",
      "Epoch 43/50\n",
      "1688/1688 [==============================] - 7s 4ms/step - loss: 0.0176 - val_loss: 0.0181\n",
      "Epoch 44/50\n",
      "1688/1688 [==============================] - 7s 4ms/step - loss: 0.0177 - val_loss: 0.0181\n",
      "Epoch 45/50\n",
      "1688/1688 [==============================] - 7s 4ms/step - loss: 0.0177 - val_loss: 0.0181\n",
      "Epoch 46/50\n",
      "1688/1688 [==============================] - 7s 4ms/step - loss: 0.0176 - val_loss: 0.0181\n",
      "Epoch 47/50\n",
      "1688/1688 [==============================] - 7s 4ms/step - loss: 0.0177 - val_loss: 0.0181\n",
      "Epoch 48/50\n",
      "1688/1688 [==============================] - 7s 4ms/step - loss: 0.0176 - val_loss: 0.0182\n",
      "Epoch 49/50\n",
      "1688/1688 [==============================] - 7s 4ms/step - loss: 0.0177 - val_loss: 0.0182\n",
      "Epoch 50/50\n",
      "1688/1688 [==============================] - 7s 4ms/step - loss: 0.0176 - val_loss: 0.0181\n"
     ]
    }
   ],
   "source": [
    "epochs = 50\n",
    "\n",
    "history = autoencoder.fit(\n",
    "      x_train,\n",
    "      x_train,\n",
    "      epochs=epochs, \n",
    "      batch_size=32, validation_split=0.10)   "
   ]
  },
  {
   "cell_type": "code",
   "execution_count": null,
   "metadata": {
    "id": "zBjhm4tXaopj"
   },
   "outputs": [],
   "source": [
    "example = encoder.predict([ covered_x_train[0].reshape(-1, 28, 28, 1) ])\n"
   ]
  },
  {
   "cell_type": "code",
   "execution_count": null,
   "metadata": {
    "colab": {
     "base_uri": "https://localhost:8080/",
     "height": 282
    },
    "id": "TKL3UYYGa3hj",
    "outputId": "75dd0ebe-7340-44c2-daa1-20a35ec997b4"
   },
   "outputs": [
    {
     "data": {
      "text/plain": [
       "<matplotlib.image.AxesImage at 0x7f3b03ceadd0>"
      ]
     },
     "execution_count": 65,
     "metadata": {
      "tags": []
     },
     "output_type": "execute_result"
    },
    {
     "data": {
      "image/png": "[encoded data removed]",
      "text/plain": [
       "<Figure size 432x288 with 1 Axes>"
      ]
     },
     "metadata": {
      "needs_background": "light",
      "tags": []
     },
     "output_type": "display_data"
    }
   ],
   "source": [
    "plt.imshow(example[0].reshape((8,8)), cmap=\"gray\")"
   ]
  },
  {
   "cell_type": "code",
   "execution_count": null,
   "metadata": {
    "colab": {
     "base_uri": "https://localhost:8080/",
     "height": 319
    },
    "id": "Yit6aWA1cFEC",
    "outputId": "c2e8780d-84b2-4c5a-ef62-d68f733b78e1"
   },
   "outputs": [
    {
     "name": "stdout",
     "output_type": "stream",
     "text": [
      "WARNING:tensorflow:5 out of the last 17 calls to <function Model.make_predict_function.<locals>.predict_function at 0x7f3b03b3b3b0> triggered tf.function retracing. Tracing is expensive and the excessive number of tracings could be due to (1) creating @tf.function repeatedly in a loop, (2) passing tensors with different shapes, (3) passing Python objects instead of tensors. For (1), please define your @tf.function outside of the loop. For (2), @tf.function has experimental_relax_shapes=True option that relaxes argument shapes that can avoid unnecessary retracing. For (3), please refer to https://www.tensorflow.org/guide/function#controlling_retracing and https://www.tensorflow.org/api_docs/python/tf/function for  more details.\n"
     ]
    },
    {
     "data": {
      "text/plain": [
       "<matplotlib.image.AxesImage at 0x7f3b03a9b3d0>"
      ]
     },
     "execution_count": 66,
     "metadata": {
      "tags": []
     },
     "output_type": "execute_result"
    },
    {
     "data": {
      "image/png": "[encoded data removed]",
      "text/plain": [
       "<Figure size 432x288 with 1 Axes>"
      ]
     },
     "metadata": {
      "needs_background": "light",
      "tags": []
     },
     "output_type": "display_data"
    }
   ],
   "source": [
    "ae_out = autoencoder.predict([ covered_x_train[10].reshape(-1, 28, 28, 1) ])\n",
    "\n",
    "img = ae_out[0].reshape(28,28)\n",
    "\n",
    "plt.imshow(img, cmap=\"gray\")"
   ]
  },
  {
   "cell_type": "code",
   "execution_count": null,
   "metadata": {
    "colab": {
     "base_uri": "https://localhost:8080/",
     "height": 282
    },
    "id": "l_teJGfSgPJV",
    "outputId": "b0e88d6f-316e-452b-fd32-b322873451cd"
   },
   "outputs": [
    {
     "data": {
      "text/plain": [
       "<matplotlib.image.AxesImage at 0x7f3b03a041d0>"
      ]
     },
     "execution_count": 67,
     "metadata": {
      "tags": []
     },
     "output_type": "execute_result"
    },
    {
     "data": {
      "image/png": "[encoded data removed]",
      "text/plain": [
       "<Figure size 432x288 with 1 Axes>"
      ]
     },
     "metadata": {
      "needs_background": "light",
      "tags": []
     },
     "output_type": "display_data"
    }
   ],
   "source": [
    "ae_out = autoencoder.predict([x_train[10].reshape(-1, 28, 28, 1) ])\n",
    "\n",
    "img = ae_out[0].reshape(28,28)\n",
    "\n",
    "plt.imshow(img, cmap=\"gray\")"
   ]
  },
  {
   "cell_type": "markdown",
   "metadata": {
    "id": "UpvNS4lAgReg"
   },
   "source": [
    "Wnioski:\n",
    "\n",
    "\n",
    "*   architektura zaimplementowanej sieci lub liczba epok uczenia nie jest wystarczająca, aby odtworzyć poprawny wygląd ubrań\n",
    "*   większość autoenkoderów, których zadaniem jest odtworzenie zasłoniętego fragmentu obrazu to sieci konwolucyjne. Zatem przyczyną niezadowalających wyników może być zastosowanie sieci składającej się jedynie z warstw fully connected\n",
    "\n",
    "\n"
   ]
  },
  {
   "cell_type": "code",
   "execution_count": null,
   "metadata": {
    "id": "PQC43Wmhm3JM"
   },
   "outputs": [],
   "source": []
  }
 ],
 "metadata": {
  "colab": {
   "collapsed_sections": [],
   "name": "Kopia notatnika lab1_autoencoder_M.Jaśkiewicz_233968.ipynb",
   "provenance": []
  },
  "kernelspec": {
   "display_name": "Python 3",
   "language": "python",
   "name": "python3"
  },
  "language_info": {
   "codemirror_mode": {
    "name": "ipython",
    "version": 3
   },
   "file_extension": ".py",
   "mimetype": "text/x-python",
   "name": "python",
   "nbconvert_exporter": "python",
   "pygments_lexer": "ipython3",
   "version": "3.7.6"
  }
 },
 "nbformat": 4,
 "nbformat_minor": 1
}
